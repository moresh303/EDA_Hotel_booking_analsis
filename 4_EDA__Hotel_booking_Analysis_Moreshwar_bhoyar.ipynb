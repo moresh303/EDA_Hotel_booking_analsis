{
  "nbformat": 4,
  "nbformat_minor": 0,
  "metadata": {
    "colab": {
      "private_outputs": true,
      "provenance": [],
      "collapsed_sections": [
        "FJNUwmbgGyua",
        "w6K7xa23Elo4",
        "yQaldy8SH6Dl",
        "mDgbUHAGgjLW",
        "nA9Y7ga8ng1Z",
        "bKJF3rekwFvQ",
        "5S0G9UEFVCg5",
        "irL_mylLv6gD",
        "2h09dhHXx98l",
        "MSa1f5Uengrz",
        "0wOQAZs5pc--",
        "K5QZ13OEpz2H",
        "lQ7QKXXCp7Bj",
        "448CDAPjqfQr",
        "KSlN3yHqYklG",
        "t6dVpIINYklI",
        "ijmpgYnKYklI",
        "-JiQyfWJYklI",
        "EM7whBJCYoAo",
        "fge-S5ZAYoAp",
        "85gYPyotYoAp",
        "RoGjAbkUYoAp",
        "4Of9eVA-YrdM",
        "iky9q4vBYrdO",
        "F6T5p64dYrdO",
        "y-Ehk30pYrdP",
        "bamQiAODYuh1",
        "QHF8YVU7Yuh3",
        "GwzvFGzlYuh3",
        "OH-pJp9IphqM",
        "PIIx-8_IphqN",
        "t27r6nlMphqO",
        "r2jJGEOYphqO",
        "b0JNsNcRphqO",
        "BZR9WyysphqO",
        "jj7wYXLtphqO",
        "rFu4xreNphqO",
        "YJ55k-q6phqO",
        "gCFgpxoyphqP",
        "OVtJsKN_phqQ",
        "lssrdh5qphqQ",
        "U2RJ9gkRphqQ",
        "1M8mcRywphqQ",
        "tgIPom80phqQ",
        "JMzcOPDDphqR",
        "x-EpHcCOp1ci",
        "X_VqEhTip1ck",
        "8zGJKyg5p1ck",
        "PVzmfK_Ep1ck",
        "n3dbpmDWp1ck",
        "ylSl6qgtp1ck",
        "ZWILFDl5p1ck",
        "M7G43BXep1ck",
        "Ag9LCva-p1cl",
        "E6MkPsBcp1cl",
        "2cELzS2fp1cl",
        "3MPXvC8up1cl",
        "NC_X3p0fY2L0",
        "UV0SzAkaZNRQ",
        "YPEH6qLeZNRQ",
        "q29F0dvdveiT",
        "EXh0U9oCveiU",
        "22aHeOlLveiV",
        "JcMwzZxoAimU",
        "gCX9965dhzqZ",
        "gIfDvo9L0UH2"
      ],
      "include_colab_link": true
    },
    "kernelspec": {
      "name": "python3",
      "display_name": "Python 3"
    },
    "language_info": {
      "name": "python"
    }
  },
  "cells": [
    {
      "cell_type": "markdown",
      "metadata": {
        "id": "view-in-github",
        "colab_type": "text"
      },
      "source": [
        "<a href=\"https://colab.research.google.com/github/moresh303/EDA_Hotel_booking_analysis/blob/main/4_EDA__Hotel_booking_Analysis_Moreshwar_bhoyar.ipynb\" target=\"_parent\"><img src=\"https://colab.research.google.com/assets/colab-badge.svg\" alt=\"Open In Colab\"/></a>"
      ]
    },
    {
      "cell_type": "markdown",
      "source": [
        "# **Project Name**    - Hotel_booking_Analysis\n",
        "\n"
      ],
      "metadata": {
        "id": "vncDsAP0Gaoa"
      }
    },
    {
      "cell_type": "markdown",
      "source": [
        "##### **Project Type**    - EDA\n",
        "##### **Contribution**    - Individual\n",
        "##### **Name**            - Moreshwar K. Bhoyar"
      ],
      "metadata": {
        "id": "beRrZCGUAJYm"
      }
    },
    {
      "cell_type": "markdown",
      "source": [
        "# **Project Summary -**"
      ],
      "metadata": {
        "id": "FJNUwmbgGyua"
      }
    },
    {
      "cell_type": "markdown",
      "source": [
        "Write the summary here within 500-600 words."
      ],
      "metadata": {
        "id": "F6v_1wHtG2nS"
      }
    },
    {
      "cell_type": "markdown",
      "source": [
        "# **GitHub Link -**"
      ],
      "metadata": {
        "id": "w6K7xa23Elo4"
      }
    },
    {
      "cell_type": "markdown",
      "source": [
        "Provide your GitHub Link here."
      ],
      "metadata": {
        "id": "h1o69JH3Eqqn"
      }
    },
    {
      "cell_type": "markdown",
      "source": [
        "# **Problem Statement**\n"
      ],
      "metadata": {
        "id": "yQaldy8SH6Dl"
      }
    },
    {
      "cell_type": "markdown",
      "source": [
        "\"Conduct a comprehensive Exploratory Data Analysis(EDA) of the hotel booking dataset to derive valuable insights regarding the most opportune time of the year for booking hotel rooms, the ideal length of stay to optimize daily rates, and the factors influencing the likelihood of a hotel receiving an unusually high volume of special requests. This data set contains booking information for a city hotel and a resort hotel, and includes information such as when the booking was made, length of stay, the number of adults, children, and/or babies, and the number of available parking spaces, among other things.\n",
        "\n",
        "The primary objective of this analysis is to uncover and elucidate the critical elements that significantly impact the booking process and guest preferences within the hospitality domain. By delving into the patterns and trends discernible within the dataset, the analysis aims to offer actionable insights that can facilitate strategic decision-making and the refinement of operational strategies for enhancing customer experiences and optimizing hotel management practices.\""
      ],
      "metadata": {
        "id": "DpeJGUA3kjGy"
      }
    },
    {
      "cell_type": "markdown",
      "source": [
        "#### **Define Your Business Objective?**"
      ],
      "metadata": {
        "id": "PH-0ReGfmX4f"
      }
    },
    {
      "cell_type": "markdown",
      "source": [
        "\"The aim is to uncover key insights from the hotel booking dataset to optimize the booking process and enhance customer satisfaction. By analyzing seasonal booking trends, determining the ideal length of stay for optimal rates, and understanding the factors influencing special requests, the objective is to provide actionable recommendations for the hotel management to improve revenue, customer experience, and operational efficiency.\""
      ],
      "metadata": {
        "id": "PhDvGCAqmjP1"
      }
    },
    {
      "cell_type": "markdown",
      "source": [
        "# **General Guidelines** : -  "
      ],
      "metadata": {
        "id": "mDgbUHAGgjLW"
      }
    },
    {
      "cell_type": "markdown",
      "source": [
        "1.   Well-structured, formatted, and commented code is required.\n",
        "2.   Exception Handling, Production Grade Code & Deployment Ready Code will be a plus. Those students will be awarded some additional credits.\n",
        "     \n",
        "     The additional credits will have advantages over other students during Star Student selection.\n",
        "       \n",
        "             [ Note: - Deployment Ready Code is defined as, the whole .ipynb notebook should be executable in one go\n",
        "                       without a single error logged. ]\n",
        "\n",
        "3.   Each and every logic should have proper comments.\n",
        "4. You may add as many number of charts you want. Make Sure for each and every chart the following format should be answered.\n",
        "        \n",
        "\n",
        "```\n",
        "# Chart visualization code\n",
        "```\n",
        "            \n",
        "\n",
        "*   Why did you pick the specific chart?\n",
        "*   What is/are the insight(s) found from the chart?\n",
        "* Will the gained insights help creating a positive business impact?\n",
        "Are there any insights that lead to negative growth? Justify with specific reason.\n",
        "\n",
        "5. You have to create at least 20 logical & meaningful charts having important insights.\n",
        "\n",
        "\n",
        "[ Hints : - Do the Vizualization in  a structured way while following \"UBM\" Rule.\n",
        "\n",
        "U - Univariate Analysis,\n",
        "\n",
        "B - Bivariate Analysis (Numerical - Categorical, Numerical - Numerical, Categorical - Categorical)\n",
        "\n",
        "M - Multivariate Analysis\n",
        " ]\n",
        "\n",
        "\n",
        "\n"
      ],
      "metadata": {
        "id": "ZrxVaUj-hHfC"
      }
    },
    {
      "cell_type": "markdown",
      "source": [
        "# ***Let's Begin !***"
      ],
      "metadata": {
        "id": "O_i_v8NEhb9l"
      }
    },
    {
      "cell_type": "markdown",
      "source": [
        "## ***1. Know Your Data***"
      ],
      "metadata": {
        "id": "HhfV-JJviCcP"
      }
    },
    {
      "cell_type": "markdown",
      "source": [
        "### Import Libraries"
      ],
      "metadata": {
        "id": "Y3lxredqlCYt"
      }
    },
    {
      "cell_type": "code",
      "source": [
        "# Import Libraries\n",
        "import numpy as np\n",
        "import pandas as pd\n",
        "import matplotlib.pyplot as plt\n",
        "%matplotlib inline\n",
        "from datetime import datetime\n",
        "import seaborn as sns\n",
        "import re"
      ],
      "metadata": {
        "id": "M8Vqi-pPk-HR"
      },
      "execution_count": null,
      "outputs": []
    },
    {
      "cell_type": "code",
      "source": [
        "# Mounting google drive for importing the dataset from drive folder\n",
        "from google.colab import drive\n",
        "drive.mount('/content/drive')"
      ],
      "metadata": {
        "id": "qOxPFDlR9oSK"
      },
      "execution_count": null,
      "outputs": []
    },
    {
      "cell_type": "markdown",
      "source": [
        "### Dataset Loading"
      ],
      "metadata": {
        "id": "3RnN4peoiCZX"
      }
    },
    {
      "cell_type": "code",
      "source": [
        "# Load Dataset by following path of drive where the dataset is present\n",
        "path ='/content/drive/MyDrive/Projects/Capstone 2-Exploratory Data Analysis/Hotel Bookings.csv'\n",
        "df_hotel = pd.read_csv(path)"
      ],
      "metadata": {
        "id": "4CkvbW_SlZ_R"
      },
      "execution_count": null,
      "outputs": []
    },
    {
      "cell_type": "markdown",
      "source": [
        "### Dataset First View"
      ],
      "metadata": {
        "id": "x71ZqKXriCWQ"
      }
    },
    {
      "cell_type": "code",
      "source": [
        "# Dataset First Look\n",
        "df_hotel"
      ],
      "metadata": {
        "id": "LWNFOSvLl09H"
      },
      "execution_count": null,
      "outputs": []
    },
    {
      "cell_type": "code",
      "source": [
        "# print first 5 rows\n",
        "df_hotel.head()"
      ],
      "metadata": {
        "id": "5gwDjlXzLS_t"
      },
      "execution_count": null,
      "outputs": []
    },
    {
      "cell_type": "code",
      "source": [
        "# print last 5 rows\n",
        "df_hotel.tail()"
      ],
      "metadata": {
        "id": "zeECqh_QLelX"
      },
      "execution_count": null,
      "outputs": []
    },
    {
      "cell_type": "code",
      "source": [
        "# Make a copy\n",
        "df_copy= df_hotel.copy()"
      ],
      "metadata": {
        "id": "eWExz3nfEvwF"
      },
      "execution_count": null,
      "outputs": []
    },
    {
      "cell_type": "markdown",
      "source": [
        "### Dataset Rows & Columns count"
      ],
      "metadata": {
        "id": "7hBIi_osiCS2"
      }
    },
    {
      "cell_type": "code",
      "source": [
        "# Dataset Rows & Columns count\n",
        "print('Number of Rows in dataset are: ',df_hotel.shape[0])\n",
        "print('Number of Columns in dataset are: ',df_hotel.shape[1])"
      ],
      "metadata": {
        "id": "Kllu7SJgmLij"
      },
      "execution_count": null,
      "outputs": []
    },
    {
      "cell_type": "markdown",
      "source": [
        "### Dataset Information"
      ],
      "metadata": {
        "id": "JlHwYmJAmNHm"
      }
    },
    {
      "cell_type": "code",
      "source": [
        "# Dataset Info\n",
        "df_hotel.info()"
      ],
      "metadata": {
        "id": "e9hRXRi6meOf"
      },
      "execution_count": null,
      "outputs": []
    },
    {
      "cell_type": "markdown",
      "source": [
        "#### Duplicate Values"
      ],
      "metadata": {
        "id": "35m5QtbWiB9F"
      }
    },
    {
      "cell_type": "code",
      "source": [
        "# Dataset Duplicate Value Count\n",
        "print('Total number of duplicate rows in dataset are: ',df_hotel.duplicated().value_counts()[1])\n",
        "print('\\nDuplicate rows having shape: ',df_hotel[df_hotel.duplicated()].shape)"
      ],
      "metadata": {
        "id": "1sLdpKYkmox0"
      },
      "execution_count": null,
      "outputs": []
    },
    {
      "cell_type": "code",
      "source": [
        "# Remove these duplicate rows\n",
        "df_hotel.drop_duplicates(inplace=True)  # using drop_duplicates() function to remove all duplicate rows\n",
        "total_unique_rows =df_hotel.shape[0]\n",
        "print('Total number of unique rows in dataset are: ',total_unique_rows)  # printing the unique rows\n",
        "print('\\nUnique rows having shape: ',df_hotel.shape)"
      ],
      "metadata": {
        "id": "rADyMc_DKDL7"
      },
      "execution_count": null,
      "outputs": []
    },
    {
      "cell_type": "code",
      "source": [
        "# countplot for duplicate values\n",
        "plt.figure()\n",
        "sns.countplot(x=df_copy.duplicated(), palette='viridis')\n",
        "plt.title('Count of Duplicate Rows in DataFrame', fontsize=16)\n",
        "plt.xlabel('Duplicate Status', fontsize=12)\n",
        "plt.ylabel('Count', fontsize=12)\n",
        "plt.xticks([0, 1], ['Unique', 'Duplicates'])\n",
        "plt.show()"
      ],
      "metadata": {
        "id": "ItCnjIMmBuZv"
      },
      "execution_count": null,
      "outputs": []
    },
    {
      "cell_type": "code",
      "source": [
        "# unique data after removing all duplicate rows\n",
        "df_hotel"
      ],
      "metadata": {
        "id": "G5d80l4uQiRI"
      },
      "execution_count": null,
      "outputs": []
    },
    {
      "cell_type": "markdown",
      "source": [
        "#### Missing Values/Null Values"
      ],
      "metadata": {
        "id": "PoPl-ycgm1ru"
      }
    },
    {
      "cell_type": "code",
      "source": [
        "# Missing Values/Null Values Count\n",
        "missing_values= df_hotel.isnull().sum().sort_values(ascending=False).head(7)\n",
        "missing_values"
      ],
      "metadata": {
        "id": "GgHWkxvamxVg"
      },
      "execution_count": null,
      "outputs": []
    },
    {
      "cell_type": "code",
      "source": [
        "# Visualizing the missing values\n",
        "# Using matplotlib\n",
        "# Using Seaborn for a more attractive visualization\n",
        "\n",
        "sns.heatmap(df_hotel.isnull(), cbar=False, cmap='viridis')\n",
        "plt.title('Null Values Visualization', fontsize=16)\n",
        "plt.show()"
      ],
      "metadata": {
        "id": "lrnGhOfYZqlN"
      },
      "execution_count": null,
      "outputs": []
    },
    {
      "cell_type": "markdown",
      "source": [
        "### What did you know about your dataset?"
      ],
      "metadata": {
        "id": "H0kj-8xxnORC"
      }
    },
    {
      "cell_type": "markdown",
      "source": [
        "The dataset provided is from the hotel industry and contains booking information for two main categories:a city hotel and a resort hotel. It includes various crucial details, such as when the booking was made, length of stay, the number of adults, children, and/or babies, and the number of available parking spaces, among other things.\n",
        "\n"
      ],
      "metadata": {
        "id": "7wH6C_MAmnw3"
      }
    },
    {
      "cell_type": "markdown",
      "source": [
        "\n",
        "\n",
        "1. The dataset comprises 119,390 rows and 32 columns.\n",
        "2. During initial data exploration, it was discovered that there were 31,994 duplicate rows identified across all 32 columns.\n",
        "3. After removing these duplicate rows, the dataset was refined to contain 87,396 unique rows.\n",
        "4. The dataset presents missing values across several columns as follows:\n",
        "  - 'company' column: 82,137 missing values.\n",
        "  - 'agent' column: 12,193 missing values.\n",
        "  - 'country' column: 452 missing values.\n",
        "  - 'children' column: 4 missing values.   \n",
        "5. Furthermore, inconsistencies were observed in the data types of certain columns, such as 'Int64', 'float64', and 'object', which were subsequently handled and rectified.  \n",
        "\n",
        "\n",
        "\n"
      ],
      "metadata": {
        "id": "bOYwtN-anUw2"
      }
    },
    {
      "cell_type": "markdown",
      "source": [
        "\n",
        "\n",
        "The dataset contains missing values in certain columns, posing a potential impact on analysis or modeling. Appropriate handling of these missing values is imperative. Eliminating duplicate rows simplifies analysis by avoiding redundant data."
      ],
      "metadata": {
        "id": "EqEXIbCJNAdq"
      }
    },
    {
      "cell_type": "markdown",
      "source": [
        "## ***2. Understanding Your Variables***"
      ],
      "metadata": {
        "id": "nA9Y7ga8ng1Z"
      }
    },
    {
      "cell_type": "code",
      "source": [
        "# Dataset Columns\n",
        "df_hotel.columns"
      ],
      "metadata": {
        "id": "j7xfkqrt5Ag5"
      },
      "execution_count": null,
      "outputs": []
    },
    {
      "cell_type": "code",
      "source": [
        "# Dataset Describe\n",
        "df_hotel.describe()  #describe(include='all') for all column"
      ],
      "metadata": {
        "id": "DnOaZdaE5Q5t"
      },
      "execution_count": null,
      "outputs": []
    },
    {
      "cell_type": "markdown",
      "source": [
        "The statistical summary provides a comprehensive overview of the Hotel Booking data:\n",
        "\n",
        "- Count: Number of non-null values in each column.\n",
        "- Mean: Average value across the column.\n",
        "- Std: Standard deviation, reflecting the dispersion of values around the mean.\n",
        "- Min: Minimum value present in the column.\n",
        "- 25%: First quartile value (25th percentile) indicating the value below which 25% of the data falls.\n",
        "- 50%: Median value (50th percentile) representing the midpoint of the data.\n",
        "- 75%: Third quartile value (75th percentile) indicating the value below which 75% of the data falls.\n",
        "- Max: Maximum value present in the column."
      ],
      "metadata": {
        "id": "CiQKoUbevyRV"
      }
    },
    {
      "cell_type": "markdown",
      "source": [
        "### Variables Description"
      ],
      "metadata": {
        "id": "PBTbrJXOngz2"
      }
    },
    {
      "cell_type": "markdown",
      "source": [
        "We have identified 32 columns in hotel booking dataset are as below:\n",
        "\n",
        "1. **hotel:** Name of the hotel (Resort Hotel or City Hotel)\n",
        "2. **is_canceled:** Whether the booking was canceled (1) or not (0)\n",
        "3. **lead_time:** Number of days before the actual arrival of the guests\n",
        "4. **arrival_date_year:** Year of the arrival date (2015-2017)\n",
        "5. **arrival_date_month:** Month of the arrival date (Jan - Dec)\n",
        "6. **arrival_date_week_number:** Week number of the year for the arrival date (1-53)\n",
        "7. **arrival_date_day_of_month:** Day of the arrival date\n",
        "8. **stays_in_weekend_nights:** Number of weekend nights (Sat/Sun) the guest stayed or booked to stay at the hotel\n",
        "9. **stays_in_week_nights:** Number of week nights (Mon - Fri) the guest stayed or booked to stay at the hotel\n",
        "10. **adults:** Number of adults among the guests\n",
        "11. **children:** Number of children among the guests\n",
        "12. **babies:** Number of babies among the guests\n",
        "13. **meal:** Type of meal booked\n",
        "     - SC: No meal package\n",
        "     - BB: Bed & Breakfast\n",
        "     - HB: Half board (breakfast and one other meal – usually dinner)\n",
        "     - FB: Full board (breakfast, lunch, and dinner)\n",
        "14. **country:** Country of the guests\n",
        "15. **market_segment:** Designation of market segment\n",
        "     - TA: Travel agents\n",
        "     - TO: Tour operators\n",
        "16. **distribution_channel:** Name of the booking distribution channel\n",
        "     - TA: Travel agents\n",
        "     - TO: Tour operators\n",
        "17. **is_repeated_guest:** If the booking name was from a repeated guest (1) or not (0)\n",
        "18. **previous_cancellations:** Number of previous bookings that were canceled by the customer prior to the current booking\n",
        "19. **previous_bookings_not_canceled:** Number of previous bookings not canceled by the customer prior to the current booking\n",
        "20. **reserved_room_type:** Code of the room type reserved\n",
        "21. **assigned_room_type:** Code for the type of room assigned to the booking\n",
        "22. **booking_changes:** Number of changes/amendments made to the booking\n",
        "23. **deposit_type:** Type of the deposit made by the guest\n",
        "24. **agent:** ID of the travel agency that made the booking\n",
        "25. **company:** ID of the company that made the booking\n",
        "26. **days_in_waiting_list:** Number of days the booking was in the waiting list\n",
        "27. **customer_type:** Type of customer\n",
        "     - Contract\n",
        "     - Group\n",
        "     - Transient\n",
        "     - Transient-party\n",
        "28. **adr:** Average Daily Rate, as defined by dividing the sum of all lodging transactions by the total number of staying nights\n",
        "29. **required_car_parking_spaces:** Number of car parking spaces required by the customer\n",
        "30. **total_of_special_requests:** Number of special requests made by the customer\n",
        "31. **reservation_status:** Reservation status (Canceled, Check-Out, or No-Show)\n",
        "32. **reservation_status_date:** Date at which the last reservation status was updated\n",
        "\n"
      ],
      "metadata": {
        "id": "LK9w2ghPHmiW"
      }
    },
    {
      "cell_type": "markdown",
      "source": [
        "### Check Unique Values for each variable."
      ],
      "metadata": {
        "id": "u3PMJOP6ngxN"
      }
    },
    {
      "cell_type": "code",
      "source": [
        "# Check Unique Values for each variable.\n",
        "print(df_hotel.apply(lambda col: col.unique()))"
      ],
      "metadata": {
        "id": "zms12Yq5n-jE"
      },
      "execution_count": null,
      "outputs": []
    },
    {
      "cell_type": "markdown",
      "source": [
        "Applying the `unique()` function to each column of the DataFrame enables us to determine the nature of the column, whether it is categorical or continuous. For instance, when we observe that the \"hotel\" column has only two unique values, \"city hotel\" and \"resort hotel,\" we can infer that the \"hotel\" column is categorical in nature. On the other hand, the \"stays_in_weekend_nights\" column contains numerical values, indicating that it is continuous. This method allows us to quickly understand the types of data present in each column and make appropriate categorizations based on the unique values."
      ],
      "metadata": {
        "id": "cCEficihK2F1"
      }
    },
    {
      "cell_type": "code",
      "source": [
        "# Total count of unique values for each column\n",
        "# for i in df_hotel.columns.tolist():\n",
        "#   print(\"No. of unique values in \",i,\"is\",df_hotel[i].nunique(),\".\")\n",
        "print(df_hotel.apply(lambda col: col.nunique()))"
      ],
      "metadata": {
        "id": "5LsRNPeXM24D"
      },
      "execution_count": null,
      "outputs": []
    },
    {
      "cell_type": "markdown",
      "source": [
        "`nunique()` is for number of unique values in each column"
      ],
      "metadata": {
        "id": "7caTE0wGwxW-"
      }
    },
    {
      "cell_type": "markdown",
      "source": [
        "## 3. ***Data Wrangling***"
      ],
      "metadata": {
        "id": "dauF4eBmngu3"
      }
    },
    {
      "cell_type": "markdown",
      "source": [
        "### Data Wrangling Code"
      ],
      "metadata": {
        "id": "bKJF3rekwFvQ"
      }
    },
    {
      "cell_type": "markdown",
      "metadata": {
        "id": "5S0G9UEFVCg5"
      },
      "source": [
        "### Data Cleaning"
      ]
    },
    {
      "cell_type": "code",
      "source": [
        "# Write your code to make your dataset analysis ready.\n",
        "# make another copy\n",
        "df_copy2=df_hotel\n",
        "\n",
        "# Missing Values/Null Values Count\n",
        "missing_values"
      ],
      "metadata": {
        "id": "wk-9a2fpoLcV"
      },
      "execution_count": null,
      "outputs": []
    },
    {
      "cell_type": "code",
      "source": [
        "# Now we check, what is the percentage of null value in each column\n",
        "\n",
        "# for company column\n",
        "company_null_percent= missing_values[0]/total_unique_rows*100\n",
        "print('The percentage null/missing values in company column is: ',company_null_percent)\n",
        "\n",
        "# for agent column\n",
        "agent_null_percent= missing_values[1]/total_unique_rows*100\n",
        "print('\\nThe percentage null/missing values in agent column is: ',agent_null_percent)\n",
        "\n",
        "# for country column\n",
        "country_null_percent= missing_values[2]/total_unique_rows*100\n",
        "print('\\nThe percentage null/missing values in country column is: ',country_null_percent)\n",
        "\n",
        "# for children column\n",
        "children_null_percent= missing_values[3]/total_unique_rows*100\n",
        "print('\\nThe percentage null/missing values in children column is: ',children_null_percent)"
      ],
      "metadata": {
        "id": "sXiISTE2HeHq"
      },
      "execution_count": null,
      "outputs": []
    },
    {
      "cell_type": "code",
      "source": [
        "# Drop 'company' column because it has more percentage of missing values\n",
        "df_hotel.drop(['company'],axis=1,inplace=True)"
      ],
      "metadata": {
        "id": "42w1pcn5OR3E"
      },
      "execution_count": null,
      "outputs": []
    },
    {
      "cell_type": "code",
      "source": [
        "df_hotel.shape # column 'company' is removed"
      ],
      "metadata": {
        "id": "cMp2kiC2SmAn"
      },
      "execution_count": null,
      "outputs": []
    },
    {
      "cell_type": "code",
      "source": [
        "# Handling remaining missing/null values\n",
        "\n",
        "# for 'agent' column fill missing values as '0'\n",
        "df_hotel['agent'].fillna(value = 0,inplace=True)\n",
        "\n",
        "# for 'country' column fill missing values as 'others'\n",
        "df_hotel['country'].fillna(value =\"others\",inplace=True)\n",
        "\n",
        "# for 'children' column fill missing values as '0'\n",
        "df_hotel['children'].fillna(value = 0,inplace=True)"
      ],
      "metadata": {
        "id": "8Q7LBGMHS_0f"
      },
      "execution_count": null,
      "outputs": []
    },
    {
      "cell_type": "code",
      "source": [
        "# Check whether the dataframe have any null values in other columns\n",
        "\n",
        "df_hotel.isnull().sum().head() # it has seen there is no null values"
      ],
      "metadata": {
        "id": "iUOPATb_Vhns"
      },
      "execution_count": null,
      "outputs": []
    },
    {
      "cell_type": "markdown",
      "metadata": {
        "id": "irL_mylLv6gD"
      },
      "source": [
        "### Change in Datatype for required Columns"
      ]
    },
    {
      "cell_type": "code",
      "source": [
        "# Check the data types of all column if necessary then change(type cast) it!\n",
        "df_hotel.info()"
      ],
      "metadata": {
        "id": "BLi3kIQKWT7V"
      },
      "execution_count": null,
      "outputs": []
    },
    {
      "cell_type": "code",
      "source": [
        "# Change the data type of the columns 'children' and 'agent' to 'int64' as they only contain integer values.\n",
        "df_hotel[['children', 'agent']] = df_hotel[['children', 'agent']].astype('int64')\n",
        "\n",
        "# Change the data type of the columns 'reservation_status_date' to 'datetime'.\n",
        "df_hotel['reservation_status_date'] = pd.to_datetime(df_hotel['reservation_status_date'])\n",
        "\n",
        "# Change the data type of the columns 'arrival_date_day_of_month' and 'arrival_date_year' to 'str'\n",
        "df_hotel[['arrival_date_day_of_month','arrival_date_year']]=df_hotel[['arrival_date_day_of_month','arrival_date_year']].astype(str)"
      ],
      "metadata": {
        "id": "WrbPhaNQhS3D"
      },
      "execution_count": null,
      "outputs": []
    },
    {
      "cell_type": "markdown",
      "metadata": {
        "id": "2h09dhHXx98l"
      },
      "source": [
        "### Addition of new column as per requirement"
      ]
    },
    {
      "cell_type": "code",
      "source": [
        "month_dict = {\n",
        "    'January': '01', 'February': '02', 'March': '03', 'April': '04', 'May': '05', 'June': '06', 'July': '07',\n",
        "    'August': '08', 'September': '09', 'October': '10', 'November': '11', 'December': '12'\n",
        "}\n",
        "\n",
        "# Convert 'arrival_date_month' to numerical representation\n",
        "df_hotel['month'] = df_hotel['arrival_date_month'].map(month_dict)\n",
        "\n",
        "# Merge 'arrival_date_year', 'arrival_date_month', and 'arrival_date_day_of_month' into 'arrival_date' in 'day-month-year' format\n",
        "df_hotel['arrival_date'] = df_hotel['arrival_date_day_of_month'] + '-' + df_hotel['month'] + '-' + df_hotel['arrival_date_year']\n",
        "\n",
        "df_hotel.drop(['month'],axis=1,inplace=True)"
      ],
      "metadata": {
        "id": "U5ULMx9Wtz1S"
      },
      "execution_count": null,
      "outputs": []
    },
    {
      "cell_type": "code",
      "source": [
        "# Change the data type of the columns \"arrival_date\" to 'datetime'.\n",
        "df_hotel['arrival_date'] = pd.to_datetime(df_hotel['arrival_date'])"
      ],
      "metadata": {
        "id": "AnbpNr3LuKKl"
      },
      "execution_count": null,
      "outputs": []
    },
    {
      "cell_type": "code",
      "source": [
        "# Creating a new column 'total stay in nights' by  adding the 'stays_in_week_nights' and 'stays_in_weekend_nights' columns.\n",
        "df_hotel['total_stay_in_nights'] = df_hotel['stays_in_week_nights'] + df_hotel['stays_in_weekend_nights']\n",
        "\n",
        "# Creating a new column 'revenue' by multiplying 'total_stay_in_nights' and 'adr'\n",
        "df_hotel['revenue'] = df_hotel['total_stay_in_nights'] * df_hotel['adr']\n",
        "\n",
        "# Creating a new column 'total_guest' by summing the values from 'adults', 'children', and 'babies'\n",
        "df_hotel['total_guest'] = df_hotel['adults'] + df_hotel['children'] + df_hotel['babies']\n",
        "\n",
        "# Displaying the sum of the 'total_guest' column\n",
        "print(\"Total guest arived at city and resort hotel are: \",df_hotel['total_guest'].sum())"
      ],
      "metadata": {
        "id": "bImMS9uEw93T"
      },
      "execution_count": null,
      "outputs": []
    },
    {
      "cell_type": "code",
      "source": [
        "# Replacing the values in the 'is_canceled' column from (0,1) to ('not_canceled', 'is_canceled')\n",
        "df_hotel['is_canceled'] = df_hotel['is_canceled'].replace([0,1], ['not_canceled', 'is_canceled'])\n",
        "\n",
        "# Displaying the 'is_canceled' column\n",
        "print(df_hotel['is_canceled'].head())\n",
        "\n",
        "# Replacing the values in the 'is_repeated_guest' column from (0,1) to ('not repeated', 'repeated')\n",
        "df_hotel['is_repeated_guest'] = df_hotel['is_repeated_guest'].replace([0,1], ['not repeated', 'repeated'])\n",
        "\n",
        "# Displaying the 'is_repeated_guest' column\n",
        "print(df_hotel['is_repeated_guest'].head())"
      ],
      "metadata": {
        "id": "KPlFwu2S0K5N"
      },
      "execution_count": null,
      "outputs": []
    },
    {
      "cell_type": "code",
      "source": [
        "# Check for if 'total_guest' is '0' means no booking was made\n",
        "print(\"Total rows where 'total_guest' are '0': \",len(df_hotel[df_hotel['total_guest']==0]))"
      ],
      "metadata": {
        "id": "oTvFQsKh1UFE"
      },
      "execution_count": null,
      "outputs": []
    },
    {
      "cell_type": "code",
      "source": [
        "# Remove/drop such rows where 'total_guest' is '0'\n",
        "df_hotel.drop(df_hotel[df_hotel['total_guest'] == 0].index, axis=0, inplace=True)"
      ],
      "metadata": {
        "id": "renfkS_a4Vk_"
      },
      "execution_count": null,
      "outputs": []
    },
    {
      "cell_type": "code",
      "source": [
        "# Check for if 'total_stay_in_nights' is '0' means no booking was made\n",
        "print(\"Total rows where 'total_stay_in_nights' are '0': \",len(df_hotel[df_hotel['total_stay_in_nights']==0]))"
      ],
      "metadata": {
        "id": "uDnjd4hE2SNL"
      },
      "execution_count": null,
      "outputs": []
    },
    {
      "cell_type": "code",
      "source": [
        "# Remove/drop such rows where 'total_stay_in_nights' is '0'\n",
        "df_hotel.drop(df_hotel[df_hotel['total_stay_in_nights'] == 0].index, axis=0, inplace=True)"
      ],
      "metadata": {
        "id": "hOILvOHdKgVw"
      },
      "execution_count": null,
      "outputs": []
    },
    {
      "cell_type": "code",
      "source": [
        "# Check for if 'revenue' is '0' means no booking was made\n",
        "print(\"Total rows where 'revenue' are '0': \",len(df_hotel[df_hotel['revenue']==0]))"
      ],
      "metadata": {
        "id": "KVC4st952r83"
      },
      "execution_count": null,
      "outputs": []
    },
    {
      "cell_type": "code",
      "source": [
        "# Remove/drop such rows where 'revenue' is '0'\n",
        "df_hotel.drop(df_hotel[df_hotel['revenue'] == 0].index, axis=0, inplace=True)"
      ],
      "metadata": {
        "id": "3LvtB5GWLcRQ"
      },
      "execution_count": null,
      "outputs": []
    },
    {
      "cell_type": "code",
      "source": [
        "df_hotel.info()"
      ],
      "metadata": {
        "id": "w-MfT57O5c-H"
      },
      "execution_count": null,
      "outputs": []
    },
    {
      "cell_type": "markdown",
      "source": [
        "### What all manipulations have you done and insights you found?"
      ],
      "metadata": {
        "id": "MSa1f5Uengrz"
      }
    },
    {
      "cell_type": "markdown",
      "source": [
        "1. Data Cleaning\n",
        "  * The **'company'** column was dropped due to a high number of missing values, making it less useful for analysis.\n",
        "  * Missing values in the **'agent'** column were filled with '0' to represent cases where bookings were made offline directly by the hotel without involving any specific agent.\n",
        "  * Missing values in the **'country'** column were replaced with 'others' to denote instances where the country information was unavailable or unknown.\n",
        "  * Missing values in the **'children'** column were filled with '0' to indicate that no children were involved in the booking.\n",
        "  * After these manipulations, the dataset was checked for remaining null values, ensuring the data is now more suitable for analysis.\n",
        "\n",
        "2. Changed in data type for required column\n",
        "  * The data types of the **'children'** and **'agent'** columns were changed from float64 to int64, considering the nature of the data, using the **astype()** function.\n",
        "  * The **'reservation_status_date'** column was converted from an object type to a datetime type using the **datetime()** function to enable effective time-based analysis.\n",
        "  * The **'arrival_date_day_of_month'** and **'arrival_date_year'** column was converted to object type for further additon of new column for arrival_date\n",
        "\n",
        "3. Additon of new column as per requirement  \n",
        "  * **'arrival_date'** column was created by combining **'arrival_date_year'**, **'arrival_date_week_number'**, and **'arrival_date_day_of_month'** and converting the result into datetime format.\n",
        "  * **'total_stay_in_nights'** column was created by adding **'stays_in_weekend_nights'** and **'stays_in_week_nights'**.\n",
        "  * **'revenue'** column was created by multiplying the **'adr'** (average daily rate) and **'total_stay_in_nights'**.\n",
        "  * **'total_guest'** column was created by adding the values from the **'adults'**, **'children'**, and **'babies'** columns.\n",
        "  * The sum of the 'total_guest' was found to be 176,999.\n",
        "\n",
        "4. Replacing values\n",
        "  * In the **'is_canceled'** column, values 0 and 1 were replaced with **'not_canceled' and 'canceled'**, respectively.\n",
        "  * Similarly, in the **'is_repeated_guest'** column, values 0 and 1 were replaced with **'not repeated' and 'repeated'**, respectively.\n",
        "  * Consequently, the data types of these columns were automatically changed to objects.\n",
        "\n",
        "5. Droping some index that found faulty or unusful in data analsis\n",
        "  * Rows where **'total_guest', 'total_stay_in_nights', and 'revenue'** were all equal to 0 were dropped. This step was taken to eliminate potential errors or faulty data, ensuring the data's reliability for analysis purposes.\n",
        "\n",
        "The data was cleaned by removing the 'company' column and filling in missing values for 'agent' and 'country'. Some data types were changed, and new columns were added to get better insights. Values were replaced for easier understanding, and unreliable rows were removed for more trustworthy data.\n"
      ],
      "metadata": {
        "id": "KmgCFyJvOmvG"
      }
    },
    {
      "cell_type": "markdown",
      "source": [
        "## ***4. Data Vizualization, Storytelling & Experimenting with charts : Understand the relationships between variables***"
      ],
      "metadata": {
        "id": "GF8Ens_Soomf"
      }
    },
    {
      "cell_type": "markdown",
      "source": [
        "#### Chart - 1   What is the percentage distribution of bookings between the two types of hotels?\n",
        "   - Visualization: Pie chart\n"
      ],
      "metadata": {
        "id": "0wOQAZs5pc--"
      }
    },
    {
      "cell_type": "code",
      "source": [
        "# Chart - 1 visualization code\n",
        "\n",
        "# Assuming the data is stored in a variable called df_hotel\n",
        "hotel_types = df_hotel['hotel'].value_counts()\n",
        "labels = hotel_types.index\n",
        "sizes = hotel_types.values\n",
        "\n",
        "# Creating pie chart\n",
        "plt.figure(figsize=(8, 8))\n",
        "plt.pie(sizes, labels=labels, autopct='%1.1f%%', startangle=90, shadow=True, explode=(0.1, 0), wedgeprops={'edgecolor': 'grey'})\n",
        "\n",
        "# Equal aspect ratio ensures the pie chart is a circle.\n",
        "plt.axis('equal')\n",
        "plt.title('Percentage Distribution of Bookings by Hotel Type', fontsize=16)\n",
        "plt.legend()\n",
        "plt.show()"
      ],
      "metadata": {
        "id": "7v_ESjsspbW7"
      },
      "execution_count": null,
      "outputs": []
    },
    {
      "cell_type": "markdown",
      "source": [
        "##### 1. Why did you pick the specific chart?"
      ],
      "metadata": {
        "id": "K5QZ13OEpz2H"
      }
    },
    {
      "cell_type": "markdown",
      "source": [
        "\n",
        "The pie chart was chosen for its ability to illustrate the percentage distribution of hotel bookings effectively. Its circular design and inclusion of clear labels and percentages facilitate a quick and intuitive understanding of the data."
      ],
      "metadata": {
        "id": "XESiWehPqBRc"
      }
    },
    {
      "cell_type": "markdown",
      "source": [
        "##### 2. What is/are the insight(s) found from the chart?"
      ],
      "metadata": {
        "id": "lQ7QKXXCp7Bj"
      }
    },
    {
      "cell_type": "markdown",
      "source": [
        "The chart shows city hotels contribute 61.1% and resort hotels 38.9% of total bookings, indicating a stronger preference for city hotels over resorts."
      ],
      "metadata": {
        "id": "C_j1G7yiqdRP"
      }
    },
    {
      "cell_type": "markdown",
      "source": [
        "##### 3. Will the gained insights help creating a positive business impact?\n",
        "Are there any insights that lead to negative growth? Justify with specific reason."
      ],
      "metadata": {
        "id": "448CDAPjqfQr"
      }
    },
    {
      "cell_type": "markdown",
      "source": [
        "Realizing that 61.1% of people choose city hotels and 38.9% opt for resorts is good for business. It means we should market and improve city hotels, but relying too much on them can be risky. We should also promote and improve resorts to balance things out. Making guests happy at both types of hotels is important to avoid problems from depending too much on just one. This way, we can keep our business stable and growing."
      ],
      "metadata": {
        "id": "3cspy4FjqxJW"
      }
    },
    {
      "cell_type": "markdown",
      "source": [
        "#### Chart - 2 What is the proportion of arrival month in the dataset?\n",
        "   - Visualization: Pie chart\n"
      ],
      "metadata": {
        "id": "KSlN3yHqYklG"
      }
    },
    {
      "cell_type": "code",
      "source": [
        "# Chart - 2 visualization code\n",
        "\n",
        "# Assuming the data is stored in a variable called df_hotel\n",
        "hotel_types = df_hotel['arrival_date_month'].value_counts()\n",
        "labels = hotel_types.index\n",
        "sizes = hotel_types.values\n",
        "\n",
        "# Creating pie chart\n",
        "plt.figure(figsize=(12, 6))\n",
        "explode = (0.1,) * len(labels)  # To ensure the explode has the same length as the labels\n",
        "plt.pie(sizes, labels=labels, autopct='%1.1f%%', startangle=90, shadow=True, explode=explode, wedgeprops={'edgecolor': 'grey'})\n",
        "\n",
        "# Equal aspect ratio ensures the pie chart is a circle.\n",
        "plt.axis('equal')\n",
        "plt.title('Proportion of arrival_date_month in the Dataset', fontsize=16)\n",
        "plt.legend(loc=\"best\")\n",
        "plt.show()"
      ],
      "metadata": {
        "id": "R4YgtaqtYklH"
      },
      "execution_count": null,
      "outputs": []
    },
    {
      "cell_type": "markdown",
      "source": [
        "##### 1. Why did you pick the specific chart?"
      ],
      "metadata": {
        "id": "t6dVpIINYklI"
      }
    },
    {
      "cell_type": "markdown",
      "source": [
        "The pie chart was chosen to display the proportion of arrival months in the dataset because it effectively represents the distribution of categorical data. It allows for a quick comparison of the percentage contribution of each month, aiding in visualizing seasonal patterns."
      ],
      "metadata": {
        "id": "5aaW0BYyYklI"
      }
    },
    {
      "cell_type": "markdown",
      "source": [
        "##### 2. What is/are the insight(s) found from the chart?"
      ],
      "metadata": {
        "id": "ijmpgYnKYklI"
      }
    },
    {
      "cell_type": "markdown",
      "source": [
        "\n",
        "The insights gained from the chart indicate that the majority of bookings are concentrated in the months of July and August, accounting for 11.6% and 13% of the total arrivals, respectively. This suggests a peak season during the summer months, highlighting the significance of seasonal trends in the dataset."
      ],
      "metadata": {
        "id": "PSx9atu2YklI"
      }
    },
    {
      "cell_type": "markdown",
      "source": [
        "##### 3. Will the gained insights help creating a positive business impact?\n",
        "Are there any insights that lead to negative growth? Justify with specific reason."
      ],
      "metadata": {
        "id": "-JiQyfWJYklI"
      }
    },
    {
      "cell_type": "markdown",
      "source": [
        "Understanding that most bookings occur in July and August can positively impact business by preparing for high demand during peak seasons, adjusting staff levels, and tailoring promotions. However, it may pose challenges during slower months, necessitating effective strategies to maintain consistent customer flow and revenue throughout the year. Implementing targeted marketing and incentives during off-peak periods, along with offering special promotions or packages, can help balance seasonal fluctuations and ensure steady business growth."
      ],
      "metadata": {
        "id": "BcBbebzrYklV"
      }
    },
    {
      "cell_type": "markdown",
      "source": [
        "#### Chart - 3 How does the number of special requests vary across different types of hotels?    \n",
        "  - Visualization: Bar chart\n"
      ],
      "metadata": {
        "id": "EM7whBJCYoAo"
      }
    },
    {
      "cell_type": "code",
      "source": [
        "# Chart - 3 visualization code\n",
        "\n",
        "# Assuming the data is stored in a variable called df_hotel\n",
        "special_requests = df_hotel.groupby('hotel')['total_of_special_requests'].sum()\n",
        "hotels = special_requests.index\n",
        "print(special_requests,'\\n')\n",
        "# Creating horizontal bar chart\n",
        "plt.figure(figsize=(8, 6))\n",
        "plt.barh(hotels, special_requests, color=['dodgerblue', 'darkorange'])\n",
        "plt.title('Number of Special Requests across Hotel Types', fontsize=16)\n",
        "plt.xlabel('Number of Special Requests', fontsize=12)\n",
        "plt.ylabel('Hotel Types', fontsize=12)\n",
        "plt.show()"
      ],
      "metadata": {
        "id": "t6GMdE67YoAp"
      },
      "execution_count": null,
      "outputs": []
    },
    {
      "cell_type": "markdown",
      "source": [
        "##### 1. Why did you pick the specific chart?"
      ],
      "metadata": {
        "id": "fge-S5ZAYoAp"
      }
    },
    {
      "cell_type": "markdown",
      "source": [
        "The bar chart was selected to visualize the variation in the number of special requests across different types of hotels because it effectively compares discrete categories. It allows for a clear comparison of the quantity of special requests between the hotel types, enabling easy identification of any variations or trends in the data."
      ],
      "metadata": {
        "id": "5dBItgRVYoAp"
      }
    },
    {
      "cell_type": "markdown",
      "source": [
        "##### 2. What is/are the insight(s) found from the chart?"
      ],
      "metadata": {
        "id": "85gYPyotYoAp"
      }
    },
    {
      "cell_type": "markdown",
      "source": [
        "The insight derived from the chart indicates that the city hotel receives a higher number of special requests compared to the resort hotel. This suggests that guests at the city hotel tend to make more specific demands or requests during their stay, highlighting potential differences in the preferences or needs of customers between the two types of hotels."
      ],
      "metadata": {
        "id": "4jstXR6OYoAp"
      }
    },
    {
      "cell_type": "markdown",
      "source": [
        "##### 3. Will the gained insights help creating a positive business impact?\n",
        "Are there any insights that lead to negative growth? Justify with specific reason."
      ],
      "metadata": {
        "id": "RoGjAbkUYoAp"
      }
    },
    {
      "cell_type": "markdown",
      "source": [
        "The insight that city hotels receive more special requests can positively impact business by allowing the hotel to cater to guests' specific needs, enhancing customer satisfaction, and potentially leading to repeat visits. However, this could also lead to higher operational costs and potential strain on resources, affecting the overall profitability. To address this, effective management of resources and services is essential to meet guests' demands without compromising the hotel's financial sustainability and service quality."
      ],
      "metadata": {
        "id": "zfJ8IqMcYoAp"
      }
    },
    {
      "cell_type": "markdown",
      "source": [
        "#### Chart - 4 How does the revenue differ for various room types?\n",
        "   - Visualization: Column chart\n"
      ],
      "metadata": {
        "id": "4Of9eVA-YrdM"
      }
    },
    {
      "cell_type": "code",
      "source": [
        "# Chart - 4 visualization code\n",
        "\n",
        "# Assuming the data is stored in a variable called df_hotel\n",
        "revenue_by_room_type = df_hotel.groupby('reserved_room_type')['revenue'].mean()\n",
        "room_types = revenue_by_room_type.index\n",
        "print(revenue_by_room_type,'\\n')\n",
        "# Creating bar chart\n",
        "plt.figure(figsize=(10, 6))\n",
        "sns.barplot(x= room_types,y=revenue_by_room_type, hue_order= True)\n",
        "plt.title('Average Revenue across Reserved Room Types', fontsize=16)\n",
        "plt.xlabel('Room Types', fontsize=12)\n",
        "plt.ylabel('Average Revenue', fontsize=12)\n",
        "plt.show()"
      ],
      "metadata": {
        "id": "irlUoxc8YrdO"
      },
      "execution_count": null,
      "outputs": []
    },
    {
      "cell_type": "markdown",
      "source": [
        "##### 1. Why did you pick the specific chart?"
      ],
      "metadata": {
        "id": "iky9q4vBYrdO"
      }
    },
    {
      "cell_type": "markdown",
      "source": [
        "The column chart was selected to compare revenue for various room types due to its ability to effectively display numerical data across categories. It allows for clear visualization of revenue differences, aiding in quick identification of top-performing room types."
      ],
      "metadata": {
        "id": "aJRCwT6DYrdO"
      }
    },
    {
      "cell_type": "markdown",
      "source": [
        "##### 2. What is/are the insight(s) found from the chart?"
      ],
      "metadata": {
        "id": "F6T5p64dYrdO"
      }
    },
    {
      "cell_type": "markdown",
      "source": [
        "The insight gained from the chart highlights that room types C, G, and H contribute significantly more to the overall revenue. This suggests the potential popularity or higher demand for these specific room types, emphasizing their importance in driving the hotel's overall financial performance."
      ],
      "metadata": {
        "id": "Xx8WAJvtYrdO"
      }
    },
    {
      "cell_type": "markdown",
      "source": [
        "##### 3. Will the gained insights help creating a positive business impact?\n",
        "Are there any insights that lead to negative growth? Justify with specific reason."
      ],
      "metadata": {
        "id": "y-Ehk30pYrdP"
      }
    },
    {
      "cell_type": "markdown",
      "source": [
        "The insight that room types C, G, and H generate more revenue can positively impact business by emphasizing the popularity of these rooms and allowing the hotel to focus on promoting and enhancing these high-performing categories. However, an overemphasis on these specific room types might overshadow the potential of other rooms, leading to underutilization and missed revenue opportunities. Implementing a balanced marketing approach and ensuring the promotion of all room types can help maintain steady growth and prevent potential revenue losses."
      ],
      "metadata": {
        "id": "jLNxxz7MYrdP"
      }
    },
    {
      "cell_type": "markdown",
      "source": [
        "#### Chart - 5 How does the number of cancellations compare between the two types of hotels?\n",
        "   - Visualization: Stacked column chart\n"
      ],
      "metadata": {
        "id": "bamQiAODYuh1"
      }
    },
    {
      "cell_type": "code",
      "source": [
        "# Chart - 5 visualization code\n",
        "\n",
        "# Assuming the data is stored in a variable called df_hotel\n",
        "cancellations = df_hotel.groupby('hotel')['is_canceled'].value_counts().unstack()\n",
        "hotels = cancellations.index\n",
        "print(cancellations,'\\n')\n",
        "# Creating stacked bar chart\n",
        "plt.figure(figsize=(8, 6))\n",
        "cancellations.plot(kind='bar', stacked=True,)\n",
        "plt.title('Comparison of Cancellations between Hotel Types', fontsize=16)\n",
        "plt.xlabel('Hotel Types', fontsize=12)\n",
        "plt.ylabel('Number of Bookings', fontsize=12)\n",
        "plt.show()"
      ],
      "metadata": {
        "id": "TIJwrbroYuh3"
      },
      "execution_count": null,
      "outputs": []
    },
    {
      "cell_type": "markdown",
      "source": [
        "##### 1. Why did you pick the specific chart?"
      ],
      "metadata": {
        "id": "QHF8YVU7Yuh3"
      }
    },
    {
      "cell_type": "markdown",
      "source": [
        "The stacked column chart was selected for its ability to effectively represent and compare multiple datasets within categories, enabling clear visualization of total and relative cancellation numbers for each hotel type."
      ],
      "metadata": {
        "id": "dcxuIMRPYuh3"
      }
    },
    {
      "cell_type": "markdown",
      "source": [
        "##### 2. What is/are the insight(s) found from the chart?"
      ],
      "metadata": {
        "id": "GwzvFGzlYuh3"
      }
    },
    {
      "cell_type": "markdown",
      "source": [
        "The insight from the chart indicates that city hotels, with their higher booking volumes, experience more cancellations and non-cancellations compared to resort hotels, suggesting potential variations in customer behavior between the two types of hotels."
      ],
      "metadata": {
        "id": "uyqkiB8YYuh3"
      }
    },
    {
      "cell_type": "markdown",
      "source": [
        "##### 3. Will the gained insights help creating a positive business impact?\n",
        "Are there any insights that lead to negative growth? Justify with specific reason."
      ],
      "metadata": {
        "id": "qYpmQ266Yuh3"
      }
    },
    {
      "cell_type": "markdown",
      "source": [
        "The insight that city hotels have higher cancellation rates due to their higher bookings can positively impact business through strategic measures to minimize cancellations and enhance customer satisfaction. However, if not managed effectively, this could lead to revenue loss and affect overall profitability. Balancing promotional efforts and ensuring customer satisfaction can help mitigate potential negative impacts and support stable business growth."
      ],
      "metadata": {
        "id": "_WtzZ_hCYuh4"
      }
    },
    {
      "cell_type": "markdown",
      "source": [
        "#### Chart - 6 Which country has the highest number of bookings?\n",
        "   - Visualization: Column chart\n"
      ],
      "metadata": {
        "id": "OH-pJp9IphqM"
      }
    },
    {
      "cell_type": "code",
      "source": [
        "# Chart - 6 visualization code\n",
        "\n",
        "# Assuming the data is stored in a variable called df_hotel\n",
        "bookings_by_country = df_hotel['country'].value_counts().head(10)\n",
        "countries = bookings_by_country.index\n",
        "print(bookings_by_country,'\\n')\n",
        "# Creating bar chart using Seaborn\n",
        "plt.figure(figsize=(8, 6))\n",
        "sns.barplot(x=countries, y=bookings_by_country, palette='viridis')\n",
        "plt.title('Top 10 Countries with the Highest Number of Bookings', fontsize=16)\n",
        "plt.xlabel('Countries', fontsize=12)\n",
        "plt.ylabel('Number of Bookings', fontsize=12)\n",
        "plt.show()"
      ],
      "metadata": {
        "id": "kuRf4wtuphqN"
      },
      "execution_count": null,
      "outputs": []
    },
    {
      "cell_type": "markdown",
      "source": [
        "##### 1. Why did you pick the specific chart?"
      ],
      "metadata": {
        "id": "bbFf2-_FphqN"
      }
    },
    {
      "cell_type": "markdown",
      "source": [
        "The column chart was chosen to visualize the highest number of bookings by country as it effectively displays and compares numerical data across different categories, enabling a clear representation of the countries with the highest booking volumes."
      ],
      "metadata": {
        "id": "loh7H2nzphqN"
      }
    },
    {
      "cell_type": "markdown",
      "source": [
        "##### 2. What is/are the insight(s) found from the chart?"
      ],
      "metadata": {
        "id": "_ouA3fa0phqN"
      }
    },
    {
      "cell_type": "markdown",
      "source": [
        "The insights from the chart reveal that the top countries in terms of bookings are Portugal (PRT), the United Kingdom (GBR), France (FRA), Spain (ESP), Germany (DEU), Italy (ITA), Ireland (IRL), Belgium (BEL), Brazil (BRA), and the Netherlands (NLD). These countries exhibit the highest booking volumes compared to other nations in the dataset."
      ],
      "metadata": {
        "id": "VECbqPI7phqN"
      }
    },
    {
      "cell_type": "markdown",
      "source": [
        "##### 3. Will the gained insights help creating a positive business impact?\n",
        "Are there any insights that lead to negative growth? Justify with specific reason."
      ],
      "metadata": {
        "id": "Seke61FWphqN"
      }
    },
    {
      "cell_type": "markdown",
      "source": [
        "The insight that certain countries, including Portugal, the United Kingdom, France, Spain, Germany, Italy, Ireland, Belgium, Brazil, and the Netherlands, generate the highest bookings can positively impact business by allowing the hotel to tailor marketing strategies and services to target these key markets. However, overreliance on these countries may limit market diversification and make the business vulnerable to economic fluctuations or changes in travel trends. Expanding marketing efforts to other countries and regions can mitigate the risk of potential negative impacts and support long-term business growth."
      ],
      "metadata": {
        "id": "DW4_bGpfphqN"
      }
    },
    {
      "cell_type": "markdown",
      "source": [
        "#### Chart - 7 How does the distribution of the average lead time vary between the different types of hotels?\n",
        "  - Visualization: Box plot\n"
      ],
      "metadata": {
        "id": "PIIx-8_IphqN"
      }
    },
    {
      "cell_type": "code",
      "source": [
        "# Chart - 7 visualization code\n",
        "\n",
        "# Assuming the data is stored in a variable called df_hotel\n",
        "plt.figure(figsize=(10, 6))\n",
        "sns.boxplot(x='hotel', y='lead_time', data=df_hotel, palette='pastel')\n",
        "plt.title('Distribution of Average Lead Time across Hotel Types', fontsize=16)\n",
        "plt.xlabel('Hotel Types', fontsize=12)\n",
        "plt.ylabel('Lead Time', fontsize=12)\n",
        "plt.show()"
      ],
      "metadata": {
        "id": "lqAIGUfyphqO"
      },
      "execution_count": null,
      "outputs": []
    },
    {
      "cell_type": "markdown",
      "source": [
        "##### 1. Why did you pick the specific chart?"
      ],
      "metadata": {
        "id": "t27r6nlMphqO"
      }
    },
    {
      "cell_type": "markdown",
      "source": [
        "The box plot was selected to visualize the distribution of the average lead time across different types of hotels because it effectively displays the spread and central tendency of numerical data for each hotel type, facilitating easy comparison and identification of any potential variations or outliers."
      ],
      "metadata": {
        "id": "iv6ro40sphqO"
      }
    },
    {
      "cell_type": "markdown",
      "source": [
        "##### 2. What is/are the insight(s) found from the chart?"
      ],
      "metadata": {
        "id": "r2jJGEOYphqO"
      }
    },
    {
      "cell_type": "markdown",
      "source": [
        "The insights gained from the chart indicate that the majority of bookings for both resort and city hotels were made within approximately 0 to 330 days and 0 to 280 days, respectively. Bookings made beyond these ranges are considered outliers, highlighting potential differences in the lead time distribution between the two types of hotels."
      ],
      "metadata": {
        "id": "Po6ZPi4hphqO"
      }
    },
    {
      "cell_type": "markdown",
      "source": [
        "##### 3. Will the gained insights help creating a positive business impact?\n",
        "Are there any insights that lead to negative growth? Justify with specific reason."
      ],
      "metadata": {
        "id": "b0JNsNcRphqO"
      }
    },
    {
      "cell_type": "markdown",
      "source": [
        "Understanding the lead time distribution aids efficient resource planning, benefiting business operations. However, the presence of numerous outliers suggests irregular booking patterns that might challenge capacity planning and resource management. Flexible policies accommodating diverse lead times and leveraging data for optimized resource use can help mitigate any negative impact and foster business growth."
      ],
      "metadata": {
        "id": "xvSq8iUTphqO"
      }
    },
    {
      "cell_type": "markdown",
      "source": [
        "#### Chart - 8 How does the number of bookings vary across different months of the year?\n",
        "   - Visualization: Line chart\n"
      ],
      "metadata": {
        "id": "BZR9WyysphqO"
      }
    },
    {
      "cell_type": "code",
      "source": [
        "# Chart - 8 visualization code\n",
        "\n",
        "# Assuming the data is stored in a variable called df_hotel\n",
        "months_ordered = ['January', 'February', 'March', 'April', 'May', 'June', 'July', 'August', 'September', 'October', 'November', 'December']\n",
        "bookings_by_month = df_hotel['arrival_date_month'].value_counts().reindex(months_ordered, fill_value=0)\n",
        "print(bookings_by_month)\n",
        "# Creating line chart\n",
        "plt.figure(figsize=(12, 8))\n",
        "plt.plot(months_ordered, bookings_by_month, marker='o', linestyle='--', color='b', label='Number of Bookings')\n",
        "plt.title('Number of Bookings across Months', fontsize=16)\n",
        "plt.xlabel('Months', fontsize=12)\n",
        "plt.ylabel('Number of Bookings', fontsize=12)\n",
        "plt.xticks(rotation=45)\n",
        "plt.legend()\n",
        "plt.show()"
      ],
      "metadata": {
        "id": "TdPTWpAVphqO"
      },
      "execution_count": null,
      "outputs": []
    },
    {
      "cell_type": "code",
      "source": [
        "# Assuming the data is stored in a variable called df_hotel\n",
        "months_ordered = ['January', 'February', 'March', 'April', 'May', 'June', 'July', 'August', 'September', 'October', 'November', 'December']\n",
        "hotel_types = ['City Hotel', 'Resort Hotel']\n",
        "\n",
        "# Generate the data for each hotel type\n",
        "city_bookings_by_month = df_hotel[df_hotel['hotel'] == 'City Hotel']['arrival_date_month'].value_counts().reindex(months_ordered, fill_value=0)\n",
        "resort_bookings_by_month = df_hotel[df_hotel['hotel'] == 'Resort Hotel']['arrival_date_month'].value_counts().reindex(months_ordered, fill_value=0)\n",
        "\n",
        "# Creating line chart\n",
        "plt.figure(figsize=(12, 8))\n",
        "plt.plot(months_ordered, city_bookings_by_month, marker='o', linestyle='--', color='b', label='City Hotel')\n",
        "plt.plot(months_ordered, resort_bookings_by_month, marker='o', linestyle='--', color='g', label='Resort Hotel')\n",
        "plt.title('Number of Bookings across Months for City and Resort Hotels', fontsize=16)\n",
        "plt.xlabel('Months', fontsize=12)\n",
        "plt.ylabel('Number of Bookings', fontsize=12)\n",
        "plt.xticks(rotation=45)\n",
        "plt.legend()\n",
        "plt.show()\n"
      ],
      "metadata": {
        "id": "L493Bv77YDJl"
      },
      "execution_count": null,
      "outputs": []
    },
    {
      "cell_type": "markdown",
      "source": [
        "##### 1. Why did you pick the specific chart?"
      ],
      "metadata": {
        "id": "jj7wYXLtphqO"
      }
    },
    {
      "cell_type": "markdown",
      "source": [
        "The line chart was chosen to visualize the variation in the number of bookings across different months of the year due to its ability to demonstrate trends over time. It effectively displays the changes in booking numbers, aiding in the identification of seasonal patterns and fluctuations."
      ],
      "metadata": {
        "id": "Ob8u6rCTphqO"
      }
    },
    {
      "cell_type": "markdown",
      "source": [
        "##### 2. What is/are the insight(s) found from the chart?"
      ],
      "metadata": {
        "id": "eZrbJ2SmphqO"
      }
    },
    {
      "cell_type": "markdown",
      "source": [
        "The insights from the chart reveal that the highest number of bookings for both city and resort hotels occur during the months of July and August. This suggests a peak season during the summer months, emphasizing the significance of seasonal trends and the impact of vacation periods on hotel bookings."
      ],
      "metadata": {
        "id": "mZtgC_hjphqO"
      }
    },
    {
      "cell_type": "markdown",
      "source": [
        "##### 3. Will the gained insights help creating a positive business impact?\n",
        "Are there any insights that lead to negative growth? Justify with specific reason."
      ],
      "metadata": {
        "id": "rFu4xreNphqO"
      }
    },
    {
      "cell_type": "markdown",
      "source": [
        "Understanding the peak booking months can positively impact business by allowing hotels to prepare adequately for high-demand periods, optimizing staff levels, and tailoring promotions. However, relying heavily on peak seasons might lead to challenges during off-peak periods, emphasizing the need for effective strategies to maintain a consistent flow of customers throughout the year and avoid potential revenue fluctuations."
      ],
      "metadata": {
        "id": "ey_0qi68phqO"
      }
    },
    {
      "cell_type": "markdown",
      "source": [
        "#### Chart - 9 Can we observe any trends in the average revenue over the years comparing to number of bookings?\n",
        "   - Visualization: Line chart with column twining\n"
      ],
      "metadata": {
        "id": "YJ55k-q6phqO"
      }
    },
    {
      "cell_type": "code",
      "source": [
        "# Chart - 9 visualization code\n",
        "\n",
        "# Assuming the data is stored in a variable called df_hotel\n",
        "df_hotel['arrival_date_year'] = df_hotel['arrival_date_year'].astype(str)\n",
        "\n",
        "# Calculating average revenue over the years\n",
        "average_revenue_over_years = df_hotel.groupby('arrival_date_year')['revenue'].mean().reset_index()\n",
        "print(average_revenue_over_years,'\\n')\n",
        "# Calculating total bookings over the years\n",
        "bookings_over_years = df_hotel.groupby('arrival_date_year').size().reset_index(name='Total Bookings')\n",
        "print(bookings_over_years,'\\n')\n",
        "# Creating combined bar and line plot using Seaborn\n",
        "plt.figure(figsize=(14, 10))\n",
        "ax = sns.barplot(x='arrival_date_year', y='Total Bookings', data=bookings_over_years, color='skyblue', label='Number of Bookings')\n",
        "ax.set(xlabel='Years', ylabel='Number of Bookings')\n",
        "ax2 = ax.twinx()\n",
        "sns.lineplot(data=average_revenue_over_years, x='arrival_date_year', y='revenue', marker='o', color='orange', ax=ax2, label='Average Revenue')\n",
        "ax2.set(ylabel='Average Revenue')\n",
        "plt.title('Trends in Average Revenue and Total Bookings over the Years', fontsize=16)\n",
        "ax.legend(loc='upper left')\n",
        "ax2.legend(loc='upper right')\n",
        "plt.show()\n"
      ],
      "metadata": {
        "id": "AmbA8WVBKJjI"
      },
      "execution_count": null,
      "outputs": []
    },
    {
      "cell_type": "markdown",
      "source": [
        "##### 1. Why did you pick the specific chart?"
      ],
      "metadata": {
        "id": "gCFgpxoyphqP"
      }
    },
    {
      "cell_type": "markdown",
      "source": [
        "The line chart with column twining was selected to illustrate any trends in the average revenue over the years compared to the number of bookings, as it effectively displays the relationship between these two variables, aiding in the identification of potential correlations or patterns over time."
      ],
      "metadata": {
        "id": "TVxDimi2phqP"
      }
    },
    {
      "cell_type": "markdown",
      "source": [
        "##### 2. What is/are the insight(s) found from the chart?"
      ],
      "metadata": {
        "id": "OVtJsKN_phqQ"
      }
    },
    {
      "cell_type": "markdown",
      "source": [
        "The insights from the chart highlight that in 2015, both the number of bookings and revenue were notably low. In 2016, although the number of bookings was high, the revenue remained relatively low compared to the booking volume. However, in 2017, both the number of bookings and revenue significantly increased, indicating a potentially positive correlation between the two variables."
      ],
      "metadata": {
        "id": "ngGi97qjphqQ"
      }
    },
    {
      "cell_type": "markdown",
      "source": [
        "##### 3. Will the gained insights help creating a positive business impact?\n",
        "Are there any insights that lead to negative growth? Justify with specific reason."
      ],
      "metadata": {
        "id": "lssrdh5qphqQ"
      }
    },
    {
      "cell_type": "markdown",
      "source": [
        "Knowing when bookings and revenue are high or low helps plan better for the business. If revenue is low despite many bookings, it might be hard to manage costs. Analyzing prices and spending habits can help deal with these issues and make the business better."
      ],
      "metadata": {
        "id": "tBpY5ekJphqQ"
      }
    },
    {
      "cell_type": "markdown",
      "source": [
        "#### Chart - 10 Is there any relationship between the Revenue and the Total stay in nights?\n",
        "   - Visualization: Scatter plot\n"
      ],
      "metadata": {
        "id": "U2RJ9gkRphqQ"
      }
    },
    {
      "cell_type": "code",
      "source": [
        "# Chart - 10 visualization code\n",
        "\n",
        "# Assuming the data is stored in a variable called df_hotel\n",
        "plt.figure(figsize=(10, 6))\n",
        "sns.scatterplot(data=df_hotel, x='revenue', y='total_stay_in_nights', color='green')\n",
        "plt.title('Relationship between Total Stay and Revenue', fontsize=16)\n",
        "plt.xlabel('Revenue', fontsize=12)\n",
        "plt.ylabel('Total Stay in nights', fontsize=12)\n",
        "plt.show()"
      ],
      "metadata": {
        "id": "GM7a4YP4phqQ"
      },
      "execution_count": null,
      "outputs": []
    },
    {
      "cell_type": "markdown",
      "source": [
        "##### 1. Why did you pick the specific chart?"
      ],
      "metadata": {
        "id": "1M8mcRywphqQ"
      }
    },
    {
      "cell_type": "markdown",
      "source": [
        "The scatter plot was chosen to visualize any relationship between Revenue and Total stay in nights as it effectively displays the distribution of numerical data points, enabling the identification of potential patterns or correlations between these two variables."
      ],
      "metadata": {
        "id": "8agQvks0phqQ"
      }
    },
    {
      "cell_type": "markdown",
      "source": [
        "##### 2. What is/are the insight(s) found from the chart?"
      ],
      "metadata": {
        "id": "tgIPom80phqQ"
      }
    },
    {
      "cell_type": "markdown",
      "source": [
        "The insight gained from the chart suggests that the majority of hotel revenue is generated from stays of less than 20 nights. This indicates a potential preference among guests for shorter stays, emphasizing the significance of short-term accommodations in driving the hotel's overall revenue."
      ],
      "metadata": {
        "id": "Qp13pnNzphqQ"
      }
    },
    {
      "cell_type": "markdown",
      "source": [
        "##### 3. Will the gained insights help creating a positive business impact?\n",
        "Are there any insights that lead to negative growth? Justify with specific reason."
      ],
      "metadata": {
        "id": "JMzcOPDDphqR"
      }
    },
    {
      "cell_type": "markdown",
      "source": [
        "Understanding that most revenue comes from stays of less than 20 nights can positively impact business by allowing hotels to focus on optimizing services and promotions for short-term guests. However, relying heavily on short-term stays may limit revenue potential from long-term guests, emphasizing the importance of implementing strategies to attract and retain guests for extended periods to ensure sustained business growth."
      ],
      "metadata": {
        "id": "R4Ka1PC2phqR"
      }
    },
    {
      "cell_type": "markdown",
      "source": [
        "#### Chart - 11 What is the distribution of the number of nights guests stay in the hotel?\n",
        "   - Visualization: Histogram\n"
      ],
      "metadata": {
        "id": "x-EpHcCOp1ci"
      }
    },
    {
      "cell_type": "code",
      "source": [
        "# Chart - 11 visualization code\n",
        "\n",
        "# Assuming the data is stored in a variable called df_hotel\n",
        "plt.figure(figsize=(10, 6))\n",
        "sns.histplot(data=df_hotel, x='total_stay_in_nights', bins=40, color='lightblue', edgecolor='black')\n",
        "plt.title('Distribution of the Number of Nights Guests Stay in the Hotel', fontsize=16)\n",
        "plt.xlabel('Number of Nights', fontsize=12)\n",
        "plt.ylabel('Frequency', fontsize=12)\n",
        "plt.show()"
      ],
      "metadata": {
        "id": "mAQTIvtqp1cj"
      },
      "execution_count": null,
      "outputs": []
    },
    {
      "cell_type": "markdown",
      "source": [
        "##### 1. Why did you pick the specific chart?"
      ],
      "metadata": {
        "id": "X_VqEhTip1ck"
      }
    },
    {
      "cell_type": "markdown",
      "source": [
        "The histogram was chosen to represent the distribution of the number of nights guests stay in the hotel because it effectively displays the frequency of different stay durations, allowing for a clear visualization of the distribution pattern and any notable trends or clusters in the data."
      ],
      "metadata": {
        "id": "-vsMzt_np1ck"
      }
    },
    {
      "cell_type": "markdown",
      "source": [
        "##### 2. What is/are the insight(s) found from the chart?"
      ],
      "metadata": {
        "id": "8zGJKyg5p1ck"
      }
    },
    {
      "cell_type": "markdown",
      "source": [
        "The insight gained from the chart indicates that the majority of bookings involve stays of less than 10 nights. This suggests a pattern where guests typically opt for shorter stays, emphasizing the significance of accommodating short-term guests and tailoring services to meet the needs of this customer segment."
      ],
      "metadata": {
        "id": "ZYdMsrqVp1ck"
      }
    },
    {
      "cell_type": "markdown",
      "source": [
        "##### 3. Will the gained insights help creating a positive business impact?\n",
        "Are there any insights that lead to negative growth? Justify with specific reason."
      ],
      "metadata": {
        "id": "PVzmfK_Ep1ck"
      }
    },
    {
      "cell_type": "markdown",
      "source": [
        "Knowing that most guests prefer short stays can help the business serve them better. However, focusing only on short stays may limit earnings from long-term guests. Offering special deals for longer stays and promoting services for them can balance earnings and keep the business growing."
      ],
      "metadata": {
        "id": "druuKYZpp1ck"
      }
    },
    {
      "cell_type": "markdown",
      "source": [
        "#### Chart - 12 What is the distribution of booking changes made by customers?\n",
        "   - Visualization: Histogram\n"
      ],
      "metadata": {
        "id": "n3dbpmDWp1ck"
      }
    },
    {
      "cell_type": "code",
      "source": [
        "# Chart - 12 visualization code\n",
        "\n",
        "# Assuming the data is stored in a variable called df_hotel\n",
        "plt.figure(figsize=(10,6))\n",
        "plt.hist(df_hotel['booking_changes'], bins=15, color='skyblue', edgecolor='black', alpha=0.7)\n",
        "plt.title('Distribution of Booking Changes', fontsize=16)\n",
        "plt.xlabel('Number of Booking Changes', fontsize=12)\n",
        "plt.ylabel('Frequency', fontsize=12)\n",
        "plt.show()"
      ],
      "metadata": {
        "id": "bwevp1tKp1ck"
      },
      "execution_count": null,
      "outputs": []
    },
    {
      "cell_type": "markdown",
      "source": [
        "##### 1. Why did you pick the specific chart?"
      ],
      "metadata": {
        "id": "ylSl6qgtp1ck"
      }
    },
    {
      "cell_type": "markdown",
      "source": [
        "The histogram was chosen to represent the distribution of booking changes made by customers due to its effectiveness in displaying the frequency of various changes, enabling a clear visualization of the distribution pattern and any notable trends or clusters in the data."
      ],
      "metadata": {
        "id": "m2xqNkiQp1ck"
      }
    },
    {
      "cell_type": "markdown",
      "source": [
        "##### 2. What is/are the insight(s) found from the chart?"
      ],
      "metadata": {
        "id": "ZWILFDl5p1ck"
      }
    },
    {
      "cell_type": "markdown",
      "source": [
        " The insight gained from the chart is that the majority of customers did not make any changes to their bookings, indicated by the peak in the 0 category, while those who did make changes predominantly stayed within the range of 1 to 7 modifications."
      ],
      "metadata": {
        "id": "x-lUsV2mp1ck"
      }
    },
    {
      "cell_type": "markdown",
      "source": [
        "##### 3. Will the gained insights help creating a positive business impact?\n",
        "Are there any insights that lead to negative growth? Justify with specific reason."
      ],
      "metadata": {
        "id": "M7G43BXep1ck"
      }
    },
    {
      "cell_type": "markdown",
      "source": [
        "Knowing that most customers don't change their bookings can help the business understand what customers want. But just focusing on them might miss out on customers who want to change. Having flexible rules and good service for both types of customers can make the business better."
      ],
      "metadata": {
        "id": "5wwDJXsLp1cl"
      }
    },
    {
      "cell_type": "markdown",
      "source": [
        "#### Chart - 13 Can we visualize the distribution of bookings across is repeated or not for two types of hotels?\n",
        "   - Visualization: Column chart (Bivarient/multivarient)\n"
      ],
      "metadata": {
        "id": "Ag9LCva-p1cl"
      }
    },
    {
      "cell_type": "code",
      "source": [
        "# Chart - 13 visualization code\n",
        "\n",
        "# Assuming the data is stored in a variable called df_hotel\n",
        "plt.figure(figsize=(8, 6))\n",
        "sns.countplot(x='is_repeated_guest', hue='hotel', data=df_hotel)\n",
        "plt.title('Distribution of Bookings for Repeated Guests in City and Resort Hotels', fontsize=16)\n",
        "plt.xlabel('Is Repeated Guest', fontsize=12)\n",
        "plt.ylabel('Number of Bookings', fontsize=12)\n",
        "plt.show()"
      ],
      "metadata": {
        "id": "EUfxeq9-p1cl"
      },
      "execution_count": null,
      "outputs": []
    },
    {
      "cell_type": "markdown",
      "source": [
        "##### 1. Why did you pick the specific chart?"
      ],
      "metadata": {
        "id": "E6MkPsBcp1cl"
      }
    },
    {
      "cell_type": "markdown",
      "source": [
        "The column chart was chosen to visualize the distribution of bookings across whether they are repeated or not for the two types of hotels due to its effectiveness in displaying and comparing categorical data, enabling a clear representation of the distribution pattern for each hotel type."
      ],
      "metadata": {
        "id": "V22bRsFWp1cl"
      }
    },
    {
      "cell_type": "markdown",
      "source": [
        "##### 2. What is/are the insight(s) found from the chart?"
      ],
      "metadata": {
        "id": "2cELzS2fp1cl"
      }
    },
    {
      "cell_type": "markdown",
      "source": [
        "The insight from the chart highlights that most customers don't make repeated bookings for both resort and city hotels, showing they usually don't come back for another stay. This means it's important to attract new customers and encourage previous customers to come back again in the future."
      ],
      "metadata": {
        "id": "ozQPc2_Ip1cl"
      }
    },
    {
      "cell_type": "markdown",
      "source": [
        "##### 3. Will the gained insights help creating a positive business impact?\n",
        "Are there any insights that lead to negative growth? Justify with specific reason."
      ],
      "metadata": {
        "id": "3MPXvC8up1cl"
      }
    },
    {
      "cell_type": "markdown",
      "source": [
        "Knowing that most customers don't return can guide the business to focus on getting new customers while also encouraging repeat visits. However, not paying attention to keeping customers may mean missing out on more earnings. Balancing getting new customers with keeping previous ones happy can help the business grow steadily."
      ],
      "metadata": {
        "id": "GL8l1tdLp1cl"
      }
    },
    {
      "cell_type": "markdown",
      "source": [
        "#### Chart - 14 - Correlation Heatmap"
      ],
      "metadata": {
        "id": "NC_X3p0fY2L0"
      }
    },
    {
      "cell_type": "code",
      "source": [
        "# Correlation Heatmap visualization code\n",
        "\n",
        "# Assuming the data is stored in a variable called df_hotel\n",
        "correlation = df_hotel.corr()\n",
        "plt.figure(figsize=(12, 10))\n",
        "sns.heatmap(correlation, annot=True, cmap='coolwarm', fmt='.2f')\n",
        "plt.title('Correlation Between Numerical Features', fontsize=16)\n",
        "plt.show()\n"
      ],
      "metadata": {
        "id": "xyC9zolEZNRQ"
      },
      "execution_count": null,
      "outputs": []
    },
    {
      "cell_type": "markdown",
      "source": [
        "##### 1. Why did you pick the specific chart?"
      ],
      "metadata": {
        "id": "UV0SzAkaZNRQ"
      }
    },
    {
      "cell_type": "markdown",
      "source": [
        "The correlation heatmap was chosen to visualize the relationships between all numerical continuous data in the hotel booking dataset as it effectively displays the strength and direction of correlations, facilitating the identification of patterns and associations between variables."
      ],
      "metadata": {
        "id": "DVPuT8LYZNRQ"
      }
    },
    {
      "cell_type": "markdown",
      "source": [
        "##### 2. What is/are the insight(s) found from the chart?"
      ],
      "metadata": {
        "id": "YPEH6qLeZNRQ"
      }
    },
    {
      "cell_type": "markdown",
      "source": [
        "From the correlation heatmap, we can observe which variables have a strong positive or negative relationship with each other. For example, we can identify if there's a strong positive correlation between variables like total stays and total revenue, indicating that longer stays tend to generate more revenue."
      ],
      "metadata": {
        "id": "bfSqtnDqZNRR"
      }
    },
    {
      "cell_type": "markdown",
      "source": [
        "#### Chart - 15 - Pair Plot"
      ],
      "metadata": {
        "id": "q29F0dvdveiT"
      }
    },
    {
      "cell_type": "code",
      "source": [
        "# Pair Plot visualization code\n"
      ],
      "metadata": {
        "id": "o58-TEIhveiU"
      },
      "execution_count": null,
      "outputs": []
    },
    {
      "cell_type": "markdown",
      "source": [
        "##### 1. Why did you pick the specific chart?"
      ],
      "metadata": {
        "id": "EXh0U9oCveiU"
      }
    },
    {
      "cell_type": "markdown",
      "source": [
        "Answer Here."
      ],
      "metadata": {
        "id": "eMmPjTByveiU"
      }
    },
    {
      "cell_type": "markdown",
      "source": [
        "##### 2. What is/are the insight(s) found from the chart?"
      ],
      "metadata": {
        "id": "22aHeOlLveiV"
      }
    },
    {
      "cell_type": "markdown",
      "source": [
        "Answer Here"
      ],
      "metadata": {
        "id": "uPQ8RGwHveiV"
      }
    },
    {
      "cell_type": "markdown",
      "source": [
        "## **5. Solution to Business Objective**"
      ],
      "metadata": {
        "id": "JcMwzZxoAimU"
      }
    },
    {
      "cell_type": "markdown",
      "source": [
        "#### What do you suggest the client to achieve Business Objective ?\n",
        "Explain Briefly."
      ],
      "metadata": {
        "id": "8G2x9gOozGDZ"
      }
    },
    {
      "cell_type": "markdown",
      "source": [
        "Certainly, here's a concise version:\n",
        "\n",
        "1. **Promote Popular Rooms:** Advertise the most popular rooms (C, G, and H) with special deals to attract more guests and boost revenue.\n",
        "\n",
        "2. **Flexible Booking:** Simplify booking for short stays to accommodate guests looking for brief visits.\n",
        "\n",
        "3. **Customer Retention:** Implement loyalty programs and personalized offers to encourage guests to return.\n",
        "\n",
        "4. **Efficient Planning:** Prepare well for peak seasons, ensuring sufficient staff and tailored services for a great customer experience.\n",
        "\n",
        "5. **Improved Service:** Focus on personalized customer service based on their preferences, ensuring a memorable and enjoyable stay.\n",
        "\n",
        "These steps can lead to increased revenue, higher customer retention, and improved reputation in the competitive hospitality industry."
      ],
      "metadata": {
        "id": "pASKb0qOza21"
      }
    },
    {
      "cell_type": "markdown",
      "source": [
        "# **Conclusion**"
      ],
      "metadata": {
        "id": "gCX9965dhzqZ"
      }
    },
    {
      "cell_type": "markdown",
      "source": [
        "Based on the above insights got from charts:\n",
        "\n",
        "1. City hotels are preferred over resort hotels, as indicated by the higher percentage contribution to total bookings.\n",
        "2. There is a peak season during the summer months, suggesting the need for targeted marketing and management strategies during this period.\n",
        "3. City hotel guests make more specific demands or requests, indicating potential differences in customer preferences between city and resort hotels.\n",
        "4. Room types C, G, and H are popular and contribute significantly to overall revenue, highlighting the importance of catering to these preferences.\n",
        "5. City hotels experience more cancellations and non-cancellations, indicating potential differences in customer behavior compared to resort hotels.\n",
        "6. Portugal, the United Kingdom, France, Spain, Germany, Italy, Ireland, Belgium, Brazil, and the Netherlands are the top countries in terms of bookings, emphasizing the importance of targeting customers from these regions.\n",
        "7. Lead time distributions differ between city and resort hotels, indicating potential variations in booking behavior.\n",
        "8. Both city and resort hotels experience a peak in bookings during the summer months, highlighting the significance of seasonal trends.\n",
        "9. There is a positive correlation between the number of bookings and revenue, suggesting that an increase in bookings leads to higher revenue.\n",
        "10. Most hotel revenue is generated from stays of less than 20 nights, indicating a preference for shorter stays among guests.\n",
        "11. Guests typically opt for shorter stays of less than 10 nights, emphasizing the need to cater to the demand for short-term accommodations.\n",
        "12. Most customers do not make changes to their bookings, with those who do mostly making 1 to 7 modifications, highlighting the importance of flexible booking policies.\n",
        "13. Most customers do not make repeated bookings, emphasizing the need to focus on both attracting new customers and fostering customer loyalty.\n",
        "14. Correlation analysis can provide insights into relationships between different variables, enabling better decision-making and understanding of the factors driving revenue and customer behavior.\n",
        "\n",
        "Overall, these insights suggest the need for targeted marketing strategies, tailored services, and flexible booking policies to accommodate the preferences and behavior of customers, especially during peak seasons and for the popular room types. Additionally, understanding the relationship between different variables can help in optimizing revenue and customer satisfaction."
      ],
      "metadata": {
        "id": "Fjb1IsQkh3yE"
      }
    },
    {
      "cell_type": "markdown",
      "source": [
        "### ***Hurrah! You have successfully completed your EDA Capstone Project !!!***"
      ],
      "metadata": {
        "id": "gIfDvo9L0UH2"
      }
    }
  ]
}